{
    "cells": [
        {
            "cell_type": "code",
            "execution_count": 1,
            "source": [
                "from qiskit import QuantumCircuit"
            ],
            "outputs": [],
            "metadata": {}
        },
        {
            "cell_type": "code",
            "execution_count": 4,
            "source": [
                "qc = QuantumCircuit(3,3)\n",
                "qc.draw()"
            ],
            "outputs": [
                {
                    "output_type": "execute_result",
                    "data": {
                        "text/plain": [
                            "     \n",
                            "q_0: \n",
                            "     \n",
                            "q_1: \n",
                            "     \n",
                            "q_2: \n",
                            "     \n",
                            "c: 3/\n",
                            "     "
                        ],
                        "text/html": [
                            "<pre style=\"word-wrap: normal;white-space: pre;background: #fff0;line-height: 1.1;font-family: &quot;Courier New&quot;,Courier,monospace\">     \n",
                            "q_0: \n",
                            "     \n",
                            "q_1: \n",
                            "     \n",
                            "q_2: \n",
                            "     \n",
                            "c: 3/\n",
                            "     </pre>"
                        ]
                    },
                    "metadata": {},
                    "execution_count": 4
                }
            ],
            "metadata": {}
        },
        {
            "cell_type": "code",
            "execution_count": 5,
            "source": [
                "qc.measure([0,1,2],[0,1,2])\n",
                "qc.draw()"
            ],
            "outputs": [
                {
                    "output_type": "execute_result",
                    "data": {
                        "text/plain": [
                            "     ┌─┐      \n",
                            "q_0: ┤M├──────\n",
                            "     └╥┘┌─┐   \n",
                            "q_1: ─╫─┤M├───\n",
                            "      ║ └╥┘┌─┐\n",
                            "q_2: ─╫──╫─┤M├\n",
                            "      ║  ║ └╥┘\n",
                            "c: 3/═╩══╩══╩═\n",
                            "      0  1  2 "
                        ],
                        "text/html": [
                            "<pre style=\"word-wrap: normal;white-space: pre;background: #fff0;line-height: 1.1;font-family: &quot;Courier New&quot;,Courier,monospace\">     ┌─┐      \n",
                            "q_0: ┤M├──────\n",
                            "     └╥┘┌─┐   \n",
                            "q_1: ─╫─┤M├───\n",
                            "      ║ └╥┘┌─┐\n",
                            "q_2: ─╫──╫─┤M├\n",
                            "      ║  ║ └╥┘\n",
                            "c: 3/═╩══╩══╩═\n",
                            "      0  1  2 </pre>"
                        ]
                    },
                    "metadata": {},
                    "execution_count": 5
                }
            ],
            "metadata": {}
        },
        {
            "cell_type": "code",
            "execution_count": 6,
            "source": [
                "from qiskit.providers.aer import AerSimulator"
            ],
            "outputs": [],
            "metadata": {}
        },
        {
            "cell_type": "code",
            "execution_count": 7,
            "source": [
                "sim = AerSimulator()"
            ],
            "outputs": [],
            "metadata": {}
        },
        {
            "cell_type": "code",
            "execution_count": 8,
            "source": [
                "job = sim.run(qc)\n",
                "result = job.result()\n",
                "result.get_counts()"
            ],
            "outputs": [
                {
                    "output_type": "execute_result",
                    "data": {
                        "text/plain": [
                            "{'000': 1024}"
                        ]
                    },
                    "metadata": {},
                    "execution_count": 8
                }
            ],
            "metadata": {}
        },
        {
            "cell_type": "code",
            "execution_count": 9,
            "source": [
                "qc = QuantumCircuit(3,3)\n",
                "qc.x([0,1])\n",
                "qc.measure([0,1,2],[0,1,2])\n",
                "qc.draw()"
            ],
            "outputs": [
                {
                    "output_type": "execute_result",
                    "data": {
                        "text/plain": [
                            "     ┌───┐┌─┐   \n",
                            "q_0: ┤ X ├┤M├───\n",
                            "     ├───┤└╥┘┌─┐\n",
                            "q_1: ┤ X ├─╫─┤M├\n",
                            "     └┬─┬┘ ║ └╥┘\n",
                            "q_2: ─┤M├──╫──╫─\n",
                            "      └╥┘  ║  ║ \n",
                            "c: 3/══╩═══╩══╩═\n",
                            "       2   0  1 "
                        ],
                        "text/html": [
                            "<pre style=\"word-wrap: normal;white-space: pre;background: #fff0;line-height: 1.1;font-family: &quot;Courier New&quot;,Courier,monospace\">     ┌───┐┌─┐   \n",
                            "q_0: ┤ X ├┤M├───\n",
                            "     ├───┤└╥┘┌─┐\n",
                            "q_1: ┤ X ├─╫─┤M├\n",
                            "     └┬─┬┘ ║ └╥┘\n",
                            "q_2: ─┤M├──╫──╫─\n",
                            "      └╥┘  ║  ║ \n",
                            "c: 3/══╩═══╩══╩═\n",
                            "       2   0  1 </pre>"
                        ]
                    },
                    "metadata": {},
                    "execution_count": 9
                }
            ],
            "metadata": {}
        },
        {
            "cell_type": "code",
            "execution_count": null,
            "source": [
                "job = sim.run(qc)\n",
                "result = job.result()\n",
                "result.get_counts()"
            ],
            "outputs": [],
            "metadata": {}
        },
        {
            "cell_type": "markdown",
            "source": [],
            "metadata": {}
        }
    ],
    "metadata": {
        "orig_nbformat": 4,
        "language_info": {
            "name": "python",
            "version": "3.8.5",
            "mimetype": "text/x-python",
            "codemirror_mode": {
                "name": "ipython",
                "version": 3
            },
            "pygments_lexer": "ipython3",
            "nbconvert_exporter": "python",
            "file_extension": ".py"
        },
        "kernelspec": {
            "name": "python3",
            "display_name": "Python 3.8.5 64-bit (conda)"
        },
        "interpreter": {
            "hash": "f888d3a4a35fdc4a3d9a571a5e53d3734ae293283f5e229aada3c237990b1734"
        }
    },
    "nbformat": 4,
    "nbformat_minor": 2
}