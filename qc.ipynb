{
    "cells": [
        {
            "cell_type": "code",
            "execution_count": 1,
            "source": [
                "from qiskit import QuantumCircuit"
            ],
            "outputs": [],
            "metadata": {}
        },
        {
            "cell_type": "code",
            "execution_count": 4,
            "source": [
                "qc = QuantumCircuit(3,3)\n",
                "qc.draw()"
            ],
            "outputs": [
                {
                    "output_type": "execute_result",
                    "data": {
                        "text/plain": [
                            "     \n",
                            "q_0: \n",
                            "     \n",
                            "q_1: \n",
                            "     \n",
                            "q_2: \n",
                            "     \n",
                            "c: 3/\n",
                            "     "
                        ],
                        "text/html": [
                            "<pre style=\"word-wrap: normal;white-space: pre;background: #fff0;line-height: 1.1;font-family: &quot;Courier New&quot;,Courier,monospace\">     \n",
                            "q_0: \n",
                            "     \n",
                            "q_1: \n",
                            "     \n",
                            "q_2: \n",
                            "     \n",
                            "c: 3/\n",
                            "     </pre>"
                        ]
                    },
                    "metadata": {},
                    "execution_count": 4
                }
            ],
            "metadata": {}
        },
        {
            "cell_type": "code",
            "execution_count": null,
            "source": [
                "# Measure"
            ],
            "outputs": [],
            "metadata": {}
        },
        {
            "cell_type": "code",
            "execution_count": 5,
            "source": [
                "qc.measure([0,1,2],[0,1,2])\n",
                "qc.draw()"
            ],
            "outputs": [
                {
                    "output_type": "execute_result",
                    "data": {
                        "text/plain": [
                            "     ┌─┐      \n",
                            "q_0: ┤M├──────\n",
                            "     └╥┘┌─┐   \n",
                            "q_1: ─╫─┤M├───\n",
                            "      ║ └╥┘┌─┐\n",
                            "q_2: ─╫──╫─┤M├\n",
                            "      ║  ║ └╥┘\n",
                            "c: 3/═╩══╩══╩═\n",
                            "      0  1  2 "
                        ],
                        "text/html": [
                            "<pre style=\"word-wrap: normal;white-space: pre;background: #fff0;line-height: 1.1;font-family: &quot;Courier New&quot;,Courier,monospace\">     ┌─┐      \n",
                            "q_0: ┤M├──────\n",
                            "     └╥┘┌─┐   \n",
                            "q_1: ─╫─┤M├───\n",
                            "      ║ └╥┘┌─┐\n",
                            "q_2: ─╫──╫─┤M├\n",
                            "      ║  ║ └╥┘\n",
                            "c: 3/═╩══╩══╩═\n",
                            "      0  1  2 </pre>"
                        ]
                    },
                    "metadata": {},
                    "execution_count": 5
                }
            ],
            "metadata": {}
        },
        {
            "cell_type": "code",
            "execution_count": 6,
            "source": [
                "from qiskit.providers.aer import AerSimulator"
            ],
            "outputs": [],
            "metadata": {}
        },
        {
            "cell_type": "code",
            "execution_count": 7,
            "source": [
                "sim = AerSimulator()"
            ],
            "outputs": [],
            "metadata": {}
        },
        {
            "cell_type": "code",
            "execution_count": 8,
            "source": [
                "job = sim.run(qc)\n",
                "result = job.result()\n",
                "result.get_counts()"
            ],
            "outputs": [
                {
                    "output_type": "execute_result",
                    "data": {
                        "text/plain": [
                            "{'000': 1024}"
                        ]
                    },
                    "metadata": {},
                    "execution_count": 8
                }
            ],
            "metadata": {}
        },
        {
            "cell_type": "code",
            "execution_count": null,
            "source": [
                "# Adding Not Gate "
            ],
            "outputs": [],
            "metadata": {}
        },
        {
            "cell_type": "code",
            "execution_count": 9,
            "source": [
                "qc = QuantumCircuit(3,3)\n",
                "qc.x([0,1])\n",
                "qc.measure([0,1,2],[0,1,2])\n",
                "qc.draw()"
            ],
            "outputs": [
                {
                    "output_type": "execute_result",
                    "data": {
                        "text/plain": [
                            "     ┌───┐┌─┐   \n",
                            "q_0: ┤ X ├┤M├───\n",
                            "     ├───┤└╥┘┌─┐\n",
                            "q_1: ┤ X ├─╫─┤M├\n",
                            "     └┬─┬┘ ║ └╥┘\n",
                            "q_2: ─┤M├──╫──╫─\n",
                            "      └╥┘  ║  ║ \n",
                            "c: 3/══╩═══╩══╩═\n",
                            "       2   0  1 "
                        ],
                        "text/html": [
                            "<pre style=\"word-wrap: normal;white-space: pre;background: #fff0;line-height: 1.1;font-family: &quot;Courier New&quot;,Courier,monospace\">     ┌───┐┌─┐   \n",
                            "q_0: ┤ X ├┤M├───\n",
                            "     ├───┤└╥┘┌─┐\n",
                            "q_1: ┤ X ├─╫─┤M├\n",
                            "     └┬─┬┘ ║ └╥┘\n",
                            "q_2: ─┤M├──╫──╫─\n",
                            "      └╥┘  ║  ║ \n",
                            "c: 3/══╩═══╩══╩═\n",
                            "       2   0  1 </pre>"
                        ]
                    },
                    "metadata": {},
                    "execution_count": 9
                }
            ],
            "metadata": {}
        },
        {
            "cell_type": "code",
            "execution_count": 10,
            "source": [
                "job = sim.run(qc)\n",
                "result = job.result()\n",
                "result.get_counts()"
            ],
            "outputs": [
                {
                    "output_type": "execute_result",
                    "data": {
                        "text/plain": [
                            "{'011': 1024}"
                        ]
                    },
                    "metadata": {},
                    "execution_count": 10
                }
            ],
            "metadata": {}
        },
        {
            "cell_type": "code",
            "execution_count": 11,
            "source": [
                "# XOR GATE"
            ],
            "outputs": [],
            "metadata": {}
        },
        {
            "cell_type": "code",
            "execution_count": 12,
            "source": [
                "qc = QuantumCircuit(2,2)\n",
                "qc.x(0)\n",
                "qc.cx(0,1)"
            ],
            "outputs": [
                {
                    "output_type": "execute_result",
                    "data": {
                        "text/plain": [
                            "<qiskit.circuit.instructionset.InstructionSet at 0x7fa0776f8760>"
                        ]
                    },
                    "metadata": {},
                    "execution_count": 12
                }
            ],
            "metadata": {}
        },
        {
            "cell_type": "code",
            "execution_count": 13,
            "source": [
                "qc.measure([0,1],[0,1])\n",
                "display(qc.draw())"
            ],
            "outputs": [
                {
                    "output_type": "display_data",
                    "data": {
                        "text/plain": [
                            "     ┌───┐     ┌─┐   \n",
                            "q_0: ┤ X ├──■──┤M├───\n",
                            "     └───┘┌─┴─┐└╥┘┌─┐\n",
                            "q_1: ─────┤ X ├─╫─┤M├\n",
                            "          └───┘ ║ └╥┘\n",
                            "c: 2/═══════════╩══╩═\n",
                            "                0  1 "
                        ],
                        "text/html": [
                            "<pre style=\"word-wrap: normal;white-space: pre;background: #fff0;line-height: 1.1;font-family: &quot;Courier New&quot;,Courier,monospace\">     ┌───┐     ┌─┐   \n",
                            "q_0: ┤ X ├──■──┤M├───\n",
                            "     └───┘┌─┴─┐└╥┘┌─┐\n",
                            "q_1: ─────┤ X ├─╫─┤M├\n",
                            "          └───┘ ║ └╥┘\n",
                            "c: 2/═══════════╩══╩═\n",
                            "                0  1 </pre>"
                        ]
                    },
                    "metadata": {}
                }
            ],
            "metadata": {}
        },
        {
            "cell_type": "code",
            "execution_count": 14,
            "source": [
                "job = sim.run(qc)\n",
                "result = job.result()\n",
                "result.get_counts()"
            ],
            "outputs": [
                {
                    "output_type": "execute_result",
                    "data": {
                        "text/plain": [
                            "{'11': 1024}"
                        ]
                    },
                    "metadata": {},
                    "execution_count": 14
                }
            ],
            "metadata": {}
        },
        {
            "cell_type": "code",
            "execution_count": 15,
            "source": [
                "test_qc = QuantumCircuit(4,2)\n",
                "\n",
                "test_qc.x(0)\n",
                "test_qc.x(1)"
            ],
            "outputs": [
                {
                    "output_type": "execute_result",
                    "data": {
                        "text/plain": [
                            "<qiskit.circuit.instructionset.InstructionSet at 0x7fa0775dbaf0>"
                        ]
                    },
                    "metadata": {},
                    "execution_count": 15
                }
            ],
            "metadata": {}
        },
        {
            "cell_type": "code",
            "execution_count": 16,
            "source": [
                "test_qc.cx(0,2)\n",
                "test_qc.cx(1,2)"
            ],
            "outputs": [
                {
                    "output_type": "execute_result",
                    "data": {
                        "text/plain": [
                            "<qiskit.circuit.instructionset.InstructionSet at 0x7fa07755c460>"
                        ]
                    },
                    "metadata": {},
                    "execution_count": 16
                }
            ],
            "metadata": {}
        },
        {
            "cell_type": "code",
            "execution_count": 17,
            "source": [
                "test_qc.draw()"
            ],
            "outputs": [
                {
                    "output_type": "execute_result",
                    "data": {
                        "text/plain": [
                            "     ┌───┐          \n",
                            "q_0: ┤ X ├──■───────\n",
                            "     ├───┤  │       \n",
                            "q_1: ┤ X ├──┼────■──\n",
                            "     └───┘┌─┴─┐┌─┴─┐\n",
                            "q_2: ─────┤ X ├┤ X ├\n",
                            "          └───┘└───┘\n",
                            "q_3: ───────────────\n",
                            "                    \n",
                            "c: 2/═══════════════\n",
                            "                    "
                        ],
                        "text/html": [
                            "<pre style=\"word-wrap: normal;white-space: pre;background: #fff0;line-height: 1.1;font-family: &quot;Courier New&quot;,Courier,monospace\">     ┌───┐          \n",
                            "q_0: ┤ X ├──■───────\n",
                            "     ├───┤  │       \n",
                            "q_1: ┤ X ├──┼────■──\n",
                            "     └───┘┌─┴─┐┌─┴─┐\n",
                            "q_2: ─────┤ X ├┤ X ├\n",
                            "          └───┘└───┘\n",
                            "q_3: ───────────────\n",
                            "                    \n",
                            "c: 2/═══════════════\n",
                            "                    </pre>"
                        ]
                    },
                    "metadata": {},
                    "execution_count": 17
                }
            ],
            "metadata": {}
        },
        {
            "cell_type": "code",
            "execution_count": 18,
            "source": [
                "test_qc.ccx(0,1,3)\n",
                "\n",
                "test_qc.draw()"
            ],
            "outputs": [
                {
                    "output_type": "execute_result",
                    "data": {
                        "text/plain": [
                            "     ┌───┐               \n",
                            "q_0: ┤ X ├──■─────────■──\n",
                            "     ├───┤  │         │  \n",
                            "q_1: ┤ X ├──┼────■────■──\n",
                            "     └───┘┌─┴─┐┌─┴─┐  │  \n",
                            "q_2: ─────┤ X ├┤ X ├──┼──\n",
                            "          └───┘└───┘┌─┴─┐\n",
                            "q_3: ───────────────┤ X ├\n",
                            "                    └───┘\n",
                            "c: 2/════════════════════\n",
                            "                         "
                        ],
                        "text/html": [
                            "<pre style=\"word-wrap: normal;white-space: pre;background: #fff0;line-height: 1.1;font-family: &quot;Courier New&quot;,Courier,monospace\">     ┌───┐               \n",
                            "q_0: ┤ X ├──■─────────■──\n",
                            "     ├───┤  │         │  \n",
                            "q_1: ┤ X ├──┼────■────■──\n",
                            "     └───┘┌─┴─┐┌─┴─┐  │  \n",
                            "q_2: ─────┤ X ├┤ X ├──┼──\n",
                            "          └───┘└───┘┌─┴─┐\n",
                            "q_3: ───────────────┤ X ├\n",
                            "                    └───┘\n",
                            "c: 2/════════════════════\n",
                            "                         </pre>"
                        ]
                    },
                    "metadata": {},
                    "execution_count": 18
                }
            ],
            "metadata": {}
        },
        {
            "cell_type": "code",
            "execution_count": 19,
            "source": [
                "test_qc.measure(2,0)\n",
                "\n",
                "test_qc.draw()"
            ],
            "outputs": [
                {
                    "output_type": "execute_result",
                    "data": {
                        "text/plain": [
                            "     ┌───┐                  \n",
                            "q_0: ┤ X ├──■─────────■─────\n",
                            "     ├───┤  │         │     \n",
                            "q_1: ┤ X ├──┼────■────■─────\n",
                            "     └───┘┌─┴─┐┌─┴─┐  │  ┌─┐\n",
                            "q_2: ─────┤ X ├┤ X ├──┼──┤M├\n",
                            "          └───┘└───┘┌─┴─┐└╥┘\n",
                            "q_3: ───────────────┤ X ├─╫─\n",
                            "                    └───┘ ║ \n",
                            "c: 2/═════════════════════╩═\n",
                            "                          0 "
                        ],
                        "text/html": [
                            "<pre style=\"word-wrap: normal;white-space: pre;background: #fff0;line-height: 1.1;font-family: &quot;Courier New&quot;,Courier,monospace\">     ┌───┐                  \n",
                            "q_0: ┤ X ├──■─────────■─────\n",
                            "     ├───┤  │         │     \n",
                            "q_1: ┤ X ├──┼────■────■─────\n",
                            "     └───┘┌─┴─┐┌─┴─┐  │  ┌─┐\n",
                            "q_2: ─────┤ X ├┤ X ├──┼──┤M├\n",
                            "          └───┘└───┘┌─┴─┐└╥┘\n",
                            "q_3: ───────────────┤ X ├─╫─\n",
                            "                    └───┘ ║ \n",
                            "c: 2/═════════════════════╩═\n",
                            "                          0 </pre>"
                        ]
                    },
                    "metadata": {},
                    "execution_count": 19
                }
            ],
            "metadata": {}
        },
        {
            "cell_type": "code",
            "execution_count": 20,
            "source": [
                "job = sim.run(test_qc)\n",
                "result = job.result()\n",
                "result.get_counts()"
            ],
            "outputs": [
                {
                    "output_type": "execute_result",
                    "data": {
                        "text/plain": [
                            "{'00': 1024}"
                        ]
                    },
                    "metadata": {},
                    "execution_count": 20
                }
            ],
            "metadata": {}
        },
        {
            "cell_type": "code",
            "execution_count": 21,
            "source": [
                "test_qc.measure(3,1)\n",
                "\n",
                "test_qc.draw()"
            ],
            "outputs": [
                {
                    "output_type": "execute_result",
                    "data": {
                        "text/plain": [
                            "     ┌───┐                     \n",
                            "q_0: ┤ X ├──■─────────■────────\n",
                            "     ├───┤  │         │        \n",
                            "q_1: ┤ X ├──┼────■────■────────\n",
                            "     └───┘┌─┴─┐┌─┴─┐  │  ┌─┐   \n",
                            "q_2: ─────┤ X ├┤ X ├──┼──┤M├───\n",
                            "          └───┘└───┘┌─┴─┐└╥┘┌─┐\n",
                            "q_3: ───────────────┤ X ├─╫─┤M├\n",
                            "                    └───┘ ║ └╥┘\n",
                            "c: 2/═════════════════════╩══╩═\n",
                            "                          0  1 "
                        ],
                        "text/html": [
                            "<pre style=\"word-wrap: normal;white-space: pre;background: #fff0;line-height: 1.1;font-family: &quot;Courier New&quot;,Courier,monospace\">     ┌───┐                     \n",
                            "q_0: ┤ X ├──■─────────■────────\n",
                            "     ├───┤  │         │        \n",
                            "q_1: ┤ X ├──┼────■────■────────\n",
                            "     └───┘┌─┴─┐┌─┴─┐  │  ┌─┐   \n",
                            "q_2: ─────┤ X ├┤ X ├──┼──┤M├───\n",
                            "          └───┘└───┘┌─┴─┐└╥┘┌─┐\n",
                            "q_3: ───────────────┤ X ├─╫─┤M├\n",
                            "                    └───┘ ║ └╥┘\n",
                            "c: 2/═════════════════════╩══╩═\n",
                            "                          0  1 </pre>"
                        ]
                    },
                    "metadata": {},
                    "execution_count": 21
                }
            ],
            "metadata": {}
        },
        {
            "cell_type": "code",
            "execution_count": 22,
            "source": [
                "job = sim.run(test_qc)\n",
                "result = job.result()\n",
                "result.get_counts()"
            ],
            "outputs": [
                {
                    "output_type": "execute_result",
                    "data": {
                        "text/plain": [
                            "{'10': 1024}"
                        ]
                    },
                    "metadata": {},
                    "execution_count": 22
                }
            ],
            "metadata": {}
        },
        {
            "cell_type": "markdown",
            "source": [],
            "metadata": {}
        }
    ],
    "metadata": {
        "orig_nbformat": 4,
        "language_info": {
            "name": "python",
            "version": "3.8.5",
            "mimetype": "text/x-python",
            "codemirror_mode": {
                "name": "ipython",
                "version": 3
            },
            "pygments_lexer": "ipython3",
            "nbconvert_exporter": "python",
            "file_extension": ".py"
        },
        "kernelspec": {
            "name": "python3",
            "display_name": "Python 3.8.5 64-bit (conda)"
        },
        "interpreter": {
            "hash": "f888d3a4a35fdc4a3d9a571a5e53d3734ae293283f5e229aada3c237990b1734"
        }
    },
    "nbformat": 4,
    "nbformat_minor": 2
}